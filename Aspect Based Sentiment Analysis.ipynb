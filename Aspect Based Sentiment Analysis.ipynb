{
 "cells": [
  {
   "cell_type": "code",
   "execution_count": 1,
   "id": "49d33d53",
   "metadata": {},
   "outputs": [
    {
     "ename": "ModuleNotFoundError",
     "evalue": "No module named 'pyabsa'",
     "output_type": "error",
     "traceback": [
      "\u001b[1;31m---------------------------------------------------------------------------\u001b[0m",
      "\u001b[1;31mModuleNotFoundError\u001b[0m                       Traceback (most recent call last)",
      "Cell \u001b[1;32mIn[1], line 1\u001b[0m\n\u001b[1;32m----> 1\u001b[0m \u001b[39mfrom\u001b[39;00m \u001b[39mpyabsa\u001b[39;00m \u001b[39mimport\u001b[39;00m ATEPCCheckpointManager\n\u001b[0;32m      3\u001b[0m aspect_extractor \u001b[39m=\u001b[39m ATEPCCheckpointManager\u001b[39m.\u001b[39mget_aspect_extractor(checkpoint\u001b[39m=\u001b[39m\u001b[39m'\u001b[39m\u001b[39menglish\u001b[39m\u001b[39m'\u001b[39m,\n\u001b[0;32m      4\u001b[0m                                                                auto_device\u001b[39m=\u001b[39m\u001b[39mTrue\u001b[39;00m  \u001b[39m# False means load model on CPU\u001b[39;00m\n\u001b[0;32m      5\u001b[0m                                                                )\n",
      "\u001b[1;31mModuleNotFoundError\u001b[0m: No module named 'pyabsa'"
     ]
    }
   ],
   "source": [
    "from pyabsa import ATEPCCheckpointManager\n",
    "\n",
    "aspect_extractor = ATEPCCheckpointManager.get_aspect_extractor(checkpoint='english',\n",
    "                                                               auto_device=True  # False means load model on CPU\n",
    "                                                               )\n"
   ]
  },
  {
   "cell_type": "code",
   "execution_count": null,
   "id": "9d421afd",
   "metadata": {},
   "outputs": [
    {
     "name": "stdout",
     "output_type": "stream",
     "text": [
      "[2023-01-26 16:55:32] (2.0.24.1) The results of aspect term extraction have been saved in C:\\Users\\NAHEZ SAKHARKAR\\OneDrive\\Desktop\\Mini Project\\Aspect Term Extraction and Polarity Classification.FAST_LCF_ATEPC.result.json\n",
      "[2023-01-26 16:55:32] (2.0.24.1) Example 0: Just bought this phone because it was availabe on sale on Amazon , to be honest for a smartphone which is 3 years old , it sure perform very well while playing high end games . The square <edges:Negative Confidence:0.9924778342247009> is not very comfortable but it does make it look slick . Small <screen:Negative Confidence:0.9840688109397888> is bit of a setback . even the <battery life:Negative Confidence:0.9699591994285583> is less than couple of hours . only bought this phone because of brand and also i love IOS . for a mid - range device , <cameras:Negative Confidence:0.9897351264953613> are little laggy as my expectation were little high from 12MP sensor . Decent experience tho .\n"
     ]
    }
   ],
   "source": [
    "# You can inference from a list of setences or a DatasetItem from PyABSA\n",
    "examples = ['''Just bought this phone because it was availabe on sale on Amazon, to be honest for a smartphone which is 3 years old, it sure perform very well while playing high end games. The square edges is not very comfortable but it does make it look slick. Small screen is bit of a setback. even the battery life is less than couple of hours. only bought this phone because of brand and also i love IOS. for a mid-range device , cameras are little laggy as my expectation were little high from 12MP sensor. Decent experience tho.''']\n",
    "inference_source = examples\n",
    "atepc_result = aspect_extractor.extract_aspect(inference_source=inference_source,  #\n",
    "                                               pred_sentiment=True,  # Predict the sentiment of extracted aspect terms\n",
    "                                               )\n"
   ]
  },
  {
   "cell_type": "code",
   "execution_count": null,
   "id": "7b12be19",
   "metadata": {
    "scrolled": true
   },
   "outputs": [
    {
     "data": {
      "text/plain": [
       "[{'sentence': 'Just bought this phone because it was availabe on sale on Amazon , to be honest for a smartphone which is 3 years old , it sure perform very well while playing high end games . The square edges is not very comfortable but it does make it look slick . Small screen is bit of a setback . even the battery life is less than couple of hours . only bought this phone because of brand and also i love IOS . for a mid - range device , cameras are little laggy as my expectation were little high from 12MP sensor . Decent experience tho .',\n",
       "  'IOB': ['O',\n",
       "   'O',\n",
       "   'O',\n",
       "   'O',\n",
       "   'O',\n",
       "   'O',\n",
       "   'O',\n",
       "   'O',\n",
       "   'O',\n",
       "   'O',\n",
       "   'O',\n",
       "   'O',\n",
       "   'O',\n",
       "   'O',\n",
       "   'O',\n",
       "   'O',\n",
       "   'O',\n",
       "   'O',\n",
       "   'O',\n",
       "   'O',\n",
       "   'O',\n",
       "   'O',\n",
       "   'O',\n",
       "   'O',\n",
       "   'O',\n",
       "   'O',\n",
       "   'O',\n",
       "   'O',\n",
       "   'O',\n",
       "   'O',\n",
       "   'O',\n",
       "   'O',\n",
       "   'O',\n",
       "   'O',\n",
       "   'O',\n",
       "   'O',\n",
       "   'O',\n",
       "   'O',\n",
       "   'B-ASP',\n",
       "   'O',\n",
       "   'O',\n",
       "   'O',\n",
       "   'O',\n",
       "   'O',\n",
       "   'O',\n",
       "   'O',\n",
       "   'O',\n",
       "   'O',\n",
       "   'O',\n",
       "   'O',\n",
       "   'O',\n",
       "   'O',\n",
       "   'B-ASP',\n",
       "   'O',\n",
       "   'O',\n",
       "   'O',\n",
       "   'O',\n",
       "   'O',\n",
       "   'O',\n",
       "   'O',\n",
       "   'O',\n",
       "   'B-ASP',\n",
       "   'I-ASP',\n",
       "   'O',\n",
       "   'O',\n",
       "   'O',\n",
       "   'O',\n",
       "   'O',\n",
       "   'O',\n",
       "   'O',\n",
       "   'O',\n",
       "   'O',\n",
       "   'O',\n",
       "   'O',\n",
       "   'O',\n",
       "   'O',\n",
       "   'O',\n",
       "   'O',\n",
       "   'O',\n",
       "   'O',\n",
       "   'O',\n",
       "   'O',\n",
       "   'O',\n",
       "   'O',\n",
       "   'O',\n",
       "   'O',\n",
       "   'O',\n",
       "   'O',\n",
       "   'O',\n",
       "   'O',\n",
       "   'B-ASP',\n",
       "   'O',\n",
       "   'O',\n",
       "   'O',\n",
       "   'O',\n",
       "   'O',\n",
       "   'O',\n",
       "   'O',\n",
       "   'O',\n",
       "   'O',\n",
       "   'O',\n",
       "   'O',\n",
       "   'O',\n",
       "   'O',\n",
       "   'O',\n",
       "   'O',\n",
       "   'O',\n",
       "   'O'],\n",
       "  'tokens': ['Just',\n",
       "   'bought',\n",
       "   'this',\n",
       "   'phone',\n",
       "   'because',\n",
       "   'it',\n",
       "   'was',\n",
       "   'availabe',\n",
       "   'on',\n",
       "   'sale',\n",
       "   'on',\n",
       "   'Amazon',\n",
       "   ',',\n",
       "   'to',\n",
       "   'be',\n",
       "   'honest',\n",
       "   'for',\n",
       "   'a',\n",
       "   'smartphone',\n",
       "   'which',\n",
       "   'is',\n",
       "   '3',\n",
       "   'years',\n",
       "   'old',\n",
       "   ',',\n",
       "   'it',\n",
       "   'sure',\n",
       "   'perform',\n",
       "   'very',\n",
       "   'well',\n",
       "   'while',\n",
       "   'playing',\n",
       "   'high',\n",
       "   'end',\n",
       "   'games',\n",
       "   '.',\n",
       "   'The',\n",
       "   'square',\n",
       "   'edges',\n",
       "   'is',\n",
       "   'not',\n",
       "   'very',\n",
       "   'comfortable',\n",
       "   'but',\n",
       "   'it',\n",
       "   'does',\n",
       "   'make',\n",
       "   'it',\n",
       "   'look',\n",
       "   'slick',\n",
       "   '.',\n",
       "   'Small',\n",
       "   'screen',\n",
       "   'is',\n",
       "   'bit',\n",
       "   'of',\n",
       "   'a',\n",
       "   'setback',\n",
       "   '.',\n",
       "   'even',\n",
       "   'the',\n",
       "   'battery',\n",
       "   'life',\n",
       "   'is',\n",
       "   'less',\n",
       "   'than',\n",
       "   'couple',\n",
       "   'of',\n",
       "   'hours',\n",
       "   '.',\n",
       "   'only',\n",
       "   'bought',\n",
       "   'this',\n",
       "   'phone',\n",
       "   'because',\n",
       "   'of',\n",
       "   'brand',\n",
       "   'and',\n",
       "   'also',\n",
       "   'i',\n",
       "   'love',\n",
       "   'IOS',\n",
       "   '.',\n",
       "   'for',\n",
       "   'a',\n",
       "   'mid',\n",
       "   '-',\n",
       "   'range',\n",
       "   'device',\n",
       "   ',',\n",
       "   'cameras',\n",
       "   'are',\n",
       "   'little',\n",
       "   'laggy',\n",
       "   'as',\n",
       "   'my',\n",
       "   'expectation',\n",
       "   'were',\n",
       "   'little',\n",
       "   'high',\n",
       "   'from',\n",
       "   '12MP',\n",
       "   'sensor',\n",
       "   '.',\n",
       "   'Decent',\n",
       "   'experience',\n",
       "   'tho',\n",
       "   '.'],\n",
       "  'aspect': ['edges', 'screen', 'battery life', 'cameras'],\n",
       "  'position': [[39], [53], [62, 63], [91]],\n",
       "  'sentiment': ['Negative', 'Negative', 'Negative', 'Negative'],\n",
       "  'probs': [[0.9924778342247009, 0.00368738966062665, 0.003834699047729373],\n",
       "   [0.9840688109397888, 0.015562369488179684, 0.0003688806318677962],\n",
       "   [0.9699591994285583, 0.029773445799946785, 0.00026729045202955604],\n",
       "   [0.9897351264953613, 0.0028200438246130943, 0.007444759830832481]],\n",
       "  'confidence': [0.9924778342247009,\n",
       "   0.9840688109397888,\n",
       "   0.9699591994285583,\n",
       "   0.9897351264953613]}]"
      ]
     },
     "execution_count": 62,
     "metadata": {},
     "output_type": "execute_result"
    }
   ],
   "source": [
    "atepc_result\n"
   ]
  },
  {
   "cell_type": "code",
   "execution_count": null,
   "id": "05e15b2c",
   "metadata": {},
   "outputs": [],
   "source": [
    "import json\n",
    "with open('data.json', 'w') as f:\n",
    "    json.dump(atepc_result, f)\n"
   ]
  },
  {
   "cell_type": "code",
   "execution_count": null,
   "id": "0ccb52e8",
   "metadata": {
    "scrolled": true
   },
   "outputs": [
    {
     "name": "stdout",
     "output_type": "stream",
     "text": [
      "Sentence : Just bought this phone because it was availabe on sale on Amazon , to be honest for a smartphone which is 3 years old , it sure perform very well while playing high end games . The square edges is not very comfortable but it does make it look slick . Small screen is bit of a setback . even the battery life is less than couple of hours . only bought this phone because of brand and also i love IOS . for a mid - range device , cameras are little laggy as my expectation were little high from 12MP sensor . Decent experience tho .\n",
      "(Aspects: Sentiment)\n",
      "edges: Negative\n",
      "screen: Negative\n",
      "battery life: Negative\n",
      "cameras: Negative\n"
     ]
    }
   ],
   "source": [
    "print(f\"Sentence : {atepc_result[0]['sentence']}\")\n",
    "print(\"(Aspects: Sentiment)\")\n",
    "aspects = atepc_result[0]['aspect']\n",
    "sentiments = atepc_result[0]['sentiment']\n",
    "for aspect in aspects:\n",
    "    print(f\"{aspect}: {sentiments[aspects.index(aspect)]}\")\n"
   ]
  },
  {
   "attachments": {},
   "cell_type": "markdown",
   "id": "0538c4a3",
   "metadata": {},
   "source": [
    "## SUMMERIZATION\n"
   ]
  },
  {
   "cell_type": "code",
   "execution_count": null,
   "id": "738f4a51",
   "metadata": {},
   "outputs": [],
   "source": [
    "import spacy\n",
    "from spacy.lang.en.stop_words import STOP_WORDS\n",
    "from string import punctuation\n"
   ]
  },
  {
   "cell_type": "code",
   "execution_count": null,
   "id": "18216d10",
   "metadata": {},
   "outputs": [],
   "source": [
    "stopwords = list(STOP_WORDS)\n"
   ]
  },
  {
   "cell_type": "code",
   "execution_count": null,
   "id": "0ad913b9",
   "metadata": {},
   "outputs": [],
   "source": [
    "nlp = spacy.load('en_core_web_sm')\n"
   ]
  },
  {
   "cell_type": "code",
   "execution_count": null,
   "id": "031052e1",
   "metadata": {},
   "outputs": [],
   "source": [
    "doc = nlp(examples[0])\n"
   ]
  },
  {
   "cell_type": "code",
   "execution_count": null,
   "id": "9bc97c5e",
   "metadata": {},
   "outputs": [
    {
     "name": "stdout",
     "output_type": "stream",
     "text": [
      "['Just', 'bought', 'this', 'phone', 'because', 'it', 'was', 'availabe', 'on', 'sale', 'on', 'Amazon', ',', 'to', 'be', 'honest', 'for', 'a', 'smartphone', 'which', 'is', '3', 'years', 'old', ',', 'it', 'sure', 'perform', 'very', 'well', 'while', 'playing', 'high', 'end', 'games', '.', 'The', 'square', 'edges', 'is', 'not', 'very', 'comfortable', 'but', 'it', 'does', 'make', 'it', 'look', 'slick', '.', 'Small', 'screen', 'is', 'bit', 'of', 'a', 'setback', '.', 'even', 'the', 'battery', 'life', 'is', 'less', 'than', 'couple', 'of', 'hours', '.', 'only', 'bought', 'this', 'phone', 'because', 'of', 'brand', 'and', 'also', 'i', 'love', 'IOS', '.', 'for', 'a', 'mid', '-', 'range', 'device', ',', 'cameras', 'are', 'little', 'laggy', 'as', 'my', 'expectation', 'were', 'little', 'high', 'from', '12MP', 'sensor', '.', 'Decent', 'experience', 'tho', '.']\n"
     ]
    }
   ],
   "source": [
    "tokens = [token.text for token in doc]\n",
    "print(tokens)\n"
   ]
  },
  {
   "cell_type": "code",
   "execution_count": null,
   "id": "26826cc9",
   "metadata": {},
   "outputs": [
    {
     "data": {
      "text/plain": [
       "'!\"#$%&\\'()*+,-./:;<=>?@[\\\\]^_`{|}~\\n'"
      ]
     },
     "execution_count": 71,
     "metadata": {},
     "output_type": "execute_result"
    }
   ],
   "source": [
    "punctuation = punctuation + '\\n'\n",
    "punctuation\n"
   ]
  },
  {
   "cell_type": "code",
   "execution_count": null,
   "id": "c5de28f0",
   "metadata": {},
   "outputs": [
    {
     "name": "stdout",
     "output_type": "stream",
     "text": [
      "{'bought': 2, 'phone': 2, 'availabe': 1, 'sale': 1, 'Amazon': 1, 'honest': 1, 'smartphone': 1, '3': 1, 'years': 1, 'old': 1, 'sure': 1, 'perform': 1, 'playing': 1, 'high': 2, 'end': 1, 'games': 1, 'square': 1, 'edges': 1, 'comfortable': 1, 'look': 1, 'slick': 1, 'Small': 1, 'screen': 1, 'bit': 1, 'setback': 1, 'battery': 1, 'life': 1, 'couple': 1, 'hours': 1, 'brand': 1, 'love': 1, 'IOS': 1, 'mid': 1, 'range': 1, 'device': 1, 'cameras': 1, 'little': 2, 'laggy': 1, 'expectation': 1, '12MP': 1, 'sensor': 1, 'Decent': 1, 'experience': 1, 'tho': 1}\n"
     ]
    }
   ],
   "source": [
    "word_frequencies = {}\n",
    "for word in doc:\n",
    "    if word.text.lower() not in stopwords:\n",
    "        if word.text.lower() not in punctuation:\n",
    "            if word.text not in word_frequencies.keys():\n",
    "                word_frequencies[word.text] = 1\n",
    "            else:\n",
    "                word_frequencies[word.text] += 1\n",
    "\n",
    "print(word_frequencies)\n"
   ]
  },
  {
   "cell_type": "code",
   "execution_count": null,
   "id": "27afb35a",
   "metadata": {},
   "outputs": [
    {
     "data": {
      "text/plain": [
       "2"
      ]
     },
     "execution_count": 73,
     "metadata": {},
     "output_type": "execute_result"
    }
   ],
   "source": [
    "max_frequency = max(word_frequencies.values())\n",
    "max_frequency\n"
   ]
  },
  {
   "cell_type": "code",
   "execution_count": null,
   "id": "d618dc0f",
   "metadata": {},
   "outputs": [
    {
     "name": "stdout",
     "output_type": "stream",
     "text": [
      "{'bought': 1.0, 'phone': 1.0, 'availabe': 0.5, 'sale': 0.5, 'Amazon': 0.5, 'honest': 0.5, 'smartphone': 0.5, '3': 0.5, 'years': 0.5, 'old': 0.5, 'sure': 0.5, 'perform': 0.5, 'playing': 0.5, 'high': 1.0, 'end': 0.5, 'games': 0.5, 'square': 0.5, 'edges': 0.5, 'comfortable': 0.5, 'look': 0.5, 'slick': 0.5, 'Small': 0.5, 'screen': 0.5, 'bit': 0.5, 'setback': 0.5, 'battery': 0.5, 'life': 0.5, 'couple': 0.5, 'hours': 0.5, 'brand': 0.5, 'love': 0.5, 'IOS': 0.5, 'mid': 0.5, 'range': 0.5, 'device': 0.5, 'cameras': 0.5, 'little': 1.0, 'laggy': 0.5, 'expectation': 0.5, '12MP': 0.5, 'sensor': 0.5, 'Decent': 0.5, 'experience': 0.5, 'tho': 0.5}\n"
     ]
    }
   ],
   "source": [
    "for word in word_frequencies.keys():\n",
    "    word_frequencies[word] = word_frequencies[word]/max_frequency\n",
    "\n",
    "print(word_frequencies)\n"
   ]
  },
  {
   "cell_type": "code",
   "execution_count": null,
   "id": "5312542f",
   "metadata": {},
   "outputs": [
    {
     "name": "stdout",
     "output_type": "stream",
     "text": [
      "[Just bought this phone because it was availabe on sale on Amazon, to be honest for a smartphone which is 3 years old, it sure perform very well while playing high end games., The square edges is not very comfortable but it does make it look slick., Small screen is bit of a setback., even the battery life is less than couple of hours., only bought this phone because of brand and also i love IOS., for a mid-range device , cameras are little laggy as my expectation were little high from 12MP sensor., Decent experience tho.]\n"
     ]
    }
   ],
   "source": [
    "sentence_tokens = [sent for sent in doc.sents]\n",
    "print(sentence_tokens)\n"
   ]
  },
  {
   "cell_type": "code",
   "execution_count": null,
   "id": "97cd1173",
   "metadata": {},
   "outputs": [
    {
     "data": {
      "text/plain": [
       "{Just bought this phone because it was availabe on sale on Amazon, to be honest for a smartphone which is 3 years old, it sure perform very well while playing high end games.: 9.0,\n",
       " The square edges is not very comfortable but it does make it look slick.: 2.5,\n",
       " Small screen is bit of a setback.: 1.5,\n",
       " even the battery life is less than couple of hours.: 2.0,\n",
       " only bought this phone because of brand and also i love IOS.: 3.0,\n",
       " for a mid-range device , cameras are little laggy as my expectation were little high from 12MP sensor.: 6.5,\n",
       " Decent experience tho.: 1.0}"
      ]
     },
     "execution_count": 76,
     "metadata": {},
     "output_type": "execute_result"
    }
   ],
   "source": [
    "sentence_scores = {}\n",
    "for sent in sentence_tokens:\n",
    "    for word in sent:\n",
    "        if word.text.lower() in word_frequencies.keys():\n",
    "            if sent not in sentence_scores.keys():\n",
    "                sentence_scores[sent] = word_frequencies[word.text.lower()]\n",
    "            else:\n",
    "                sentence_scores[sent] += word_frequencies[word.text.lower()]\n",
    "\n",
    "sentence_scores\n"
   ]
  },
  {
   "cell_type": "code",
   "execution_count": null,
   "id": "7965feb5",
   "metadata": {},
   "outputs": [],
   "source": [
    "from heapq import nlargest\n"
   ]
  },
  {
   "cell_type": "code",
   "execution_count": null,
   "id": "8476cbc5",
   "metadata": {},
   "outputs": [
    {
     "data": {
      "text/plain": [
       "2"
      ]
     },
     "execution_count": 78,
     "metadata": {},
     "output_type": "execute_result"
    }
   ],
   "source": [
    "select_length = int(len(sentence_tokens)*0.3)\n",
    "select_length\n"
   ]
  },
  {
   "cell_type": "code",
   "execution_count": null,
   "id": "bda45c2f",
   "metadata": {},
   "outputs": [
    {
     "data": {
      "text/plain": [
       "[Just bought this phone because it was availabe on sale on Amazon, to be honest for a smartphone which is 3 years old, it sure perform very well while playing high end games.,\n",
       " for a mid-range device , cameras are little laggy as my expectation were little high from 12MP sensor.]"
      ]
     },
     "execution_count": 79,
     "metadata": {},
     "output_type": "execute_result"
    }
   ],
   "source": [
    "summary = nlargest(select_length, sentence_scores, key=sentence_scores.get)\n",
    "summary\n"
   ]
  },
  {
   "cell_type": "code",
   "execution_count": null,
   "id": "ccc1f48c",
   "metadata": {},
   "outputs": [],
   "source": [
    "final_summary = [word.text for word in summary]\n",
    "summary = ' '.join(final_summary)\n"
   ]
  },
  {
   "cell_type": "code",
   "execution_count": null,
   "id": "c4b0735f",
   "metadata": {},
   "outputs": [
    {
     "name": "stdout",
     "output_type": "stream",
     "text": [
      "['Just bought this phone because it was availabe on sale on Amazon, to be honest for a smartphone which is 3 years old, it sure perform very well while playing high end games. The square edges is not very comfortable but it does make it look slick. Small screen is bit of a setback. even the battery life is less than couple of hours. only bought this phone because of brand and also i love IOS. for a mid-range device , cameras are little laggy as my expectation were little high from 12MP sensor. Decent experience tho.']\n"
     ]
    }
   ],
   "source": [
    "print(examples)\n"
   ]
  },
  {
   "cell_type": "code",
   "execution_count": null,
   "id": "52da27ba",
   "metadata": {},
   "outputs": [
    {
     "name": "stdout",
     "output_type": "stream",
     "text": [
      "Just bought this phone because it was availabe on sale on Amazon, to be honest for a smartphone which is 3 years old, it sure perform very well while playing high end games. for a mid-range device , cameras are little laggy as my expectation were little high from 12MP sensor.\n"
     ]
    }
   ],
   "source": [
    "print(summary)\n"
   ]
  },
  {
   "cell_type": "code",
   "execution_count": null,
   "id": "115d4fb7",
   "metadata": {},
   "outputs": [
    {
     "ename": "ModuleNotFoundError",
     "evalue": "No module named 'gensim.summarization'",
     "output_type": "error",
     "traceback": [
      "\u001b[1;31m---------------------------------------------------------------------------\u001b[0m",
      "\u001b[1;31mModuleNotFoundError\u001b[0m                       Traceback (most recent call last)",
      "\u001b[1;32m~\\AppData\\Local\\Temp\\ipykernel_12884\\1595030449.py\u001b[0m in \u001b[0;36m<module>\u001b[1;34m\u001b[0m\n\u001b[1;32m----> 1\u001b[1;33m \u001b[1;32mfrom\u001b[0m \u001b[0mgensim\u001b[0m\u001b[1;33m.\u001b[0m\u001b[0msummarization\u001b[0m\u001b[1;33m.\u001b[0m\u001b[0msummarizer\u001b[0m \u001b[1;32mimport\u001b[0m \u001b[0mgensim\u001b[0m\u001b[1;33m\u001b[0m\u001b[1;33m\u001b[0m\u001b[0m\n\u001b[0m\u001b[0;32m      2\u001b[0m \u001b[1;32mfrom\u001b[0m \u001b[0mgensim\u001b[0m\u001b[1;33m.\u001b[0m\u001b[0msummarization\u001b[0m \u001b[1;32mimport\u001b[0m \u001b[0mkeywords\u001b[0m\u001b[1;33m\u001b[0m\u001b[1;33m\u001b[0m\u001b[0m\n",
      "\u001b[1;31mModuleNotFoundError\u001b[0m: No module named 'gensim.summarization'"
     ]
    }
   ],
   "source": [
    "from gensim.summarization.summarizer import gensim\n",
    "from gensim.summarization import keywords\n"
   ]
  },
  {
   "attachments": {},
   "cell_type": "markdown",
   "id": "98b011af",
   "metadata": {},
   "source": [
    "# # REGULAR EXPRESSION SUMMERIZATION\n"
   ]
  },
  {
   "cell_type": "code",
   "execution_count": null,
   "id": "8057ed29",
   "metadata": {},
   "outputs": [],
   "source": [
    "import re\n"
   ]
  },
  {
   "cell_type": "code",
   "execution_count": null,
   "id": "fccc2426",
   "metadata": {},
   "outputs": [],
   "source": [
    "product_name = \"Iphone 7\"\n",
    "product_aspects = [\"Battery\", \"Memory\", \"Camera\",\n",
    "                   \"Performance\", \"Display\", \"OS\", \"Cost\", \"Misc\"]\n",
    "pattern_phoneNumber = \"(?:\\+\\d{2})?\\d{3,4}\\D?\\d{3}\\D?\\d{3}\"\n",
    "matches_phone = re.findall(pattern_phoneNumber, all)\n",
    "matches_phone\n"
   ]
  }
 ],
 "metadata": {
  "kernelspec": {
   "display_name": "Python 3",
   "language": "python",
   "name": "python3"
  },
  "language_info": {
   "codemirror_mode": {
    "name": "ipython",
    "version": 3
   },
   "file_extension": ".py",
   "mimetype": "text/x-python",
   "name": "python",
   "nbconvert_exporter": "python",
   "pygments_lexer": "ipython3",
   "version": "3.9.13 (tags/v3.9.13:6de2ca5, May 17 2022, 16:36:42) [MSC v.1929 64 bit (AMD64)]"
  },
  "vscode": {
   "interpreter": {
    "hash": "1582489a1599c223f09c5febc7e50967d686995ea99ad9dc2326af48c9df0227"
   }
  }
 },
 "nbformat": 4,
 "nbformat_minor": 5
}
